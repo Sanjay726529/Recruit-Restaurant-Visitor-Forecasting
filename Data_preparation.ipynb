{
 "cells": [
  {
   "cell_type": "code",
   "execution_count": 237,
   "metadata": {
    "Collapsed": "false"
   },
   "outputs": [],
   "source": [
    "import pandas as pd\n",
    "import numpy as np\n",
    "import matplotlib.pyplot as plt\n",
    "import seaborn as sns\n",
    "\n",
    "%matplotlib inline\n",
    "\n",
    "sns.set_style('whitegrid')"
   ]
  },
  {
   "cell_type": "code",
   "execution_count": 301,
   "metadata": {
    "Collapsed": "false"
   },
   "outputs": [],
   "source": [
    "# read all the csv files\n",
    "\n",
    "#air\n",
    "air_visit_data = pd.read_csv(\"air_visit_data.csv\", dtype=dict(air_store_id = str))\n",
    "air_reservation_data = pd.read_csv(\"air_reserve.csv\")\n",
    "air_store_info = pd.read_csv(\"air_store_info.csv\")\n",
    "date_info = pd.read_csv(\"date_info.csv\")\n",
    "\n",
    "#hpg\n",
    "hpg_reservation_data = pd.read_csv(\"hpg_reserve.csv\")\n",
    "hpg_store_info = pd.read_csv(\"hpg_store_info.csv\")\n",
    "store_id_relation = pd.read_csv(\"store_id_relation.csv\")"
   ]
  },
  {
   "cell_type": "markdown",
   "metadata": {
    "Collapsed": "false"
   },
   "source": [
    "# data preparation"
   ]
  },
  {
   "cell_type": "code",
   "execution_count": 302,
   "metadata": {
    "Collapsed": "false"
   },
   "outputs": [],
   "source": [
    "\n",
    "#air_database = pd.merge(air_reservation_data, air_store_info, how='left', on='air_store_id')\n",
    "air_reservation_data['visit_datetime'] = pd.to_datetime(air_reservation_data['visit_datetime'])\n",
    "air_reservation_data['reserve_datetime'] = pd.to_datetime(air_reservation_data['reserve_datetime'])\n",
    "\n",
    "# add one more column, the gap between reserve time and visit time\n",
    "reserve_diff = (air_reservation_data.visit_datetime - air_reservation_data.reserve_datetime)\n",
    "reserve_diff = reserve_diff/ np.timedelta64(1, 'h')\n",
    "air_reservation_data['reserve_gap_hour'] = reserve_diff\n",
    "air_reservation_data['visit_date'] = air_reservation_data.visit_datetime.dt.date\n",
    "\n",
    "# store the data\n",
    "air_reservation_data.to_csv(\"./preprocessed_air_reserve_info.csv\", index=False)"
   ]
  },
  {
   "cell_type": "code",
   "execution_count": 303,
   "metadata": {
    "Collapsed": "false"
   },
   "outputs": [
    {
     "data": {
      "text/html": [
       "<div>\n",
       "<style scoped>\n",
       "    .dataframe tbody tr th:only-of-type {\n",
       "        vertical-align: middle;\n",
       "    }\n",
       "\n",
       "    .dataframe tbody tr th {\n",
       "        vertical-align: top;\n",
       "    }\n",
       "\n",
       "    .dataframe thead th {\n",
       "        text-align: right;\n",
       "    }\n",
       "</style>\n",
       "<table border=\"1\" class=\"dataframe\">\n",
       "  <thead>\n",
       "    <tr style=\"text-align: right;\">\n",
       "      <th></th>\n",
       "      <th>air_store_id</th>\n",
       "      <th>visit_datetime</th>\n",
       "      <th>reserve_datetime</th>\n",
       "      <th>reserve_visitors</th>\n",
       "      <th>reserve_gap_hour</th>\n",
       "      <th>visit_date</th>\n",
       "    </tr>\n",
       "  </thead>\n",
       "  <tbody>\n",
       "    <tr>\n",
       "      <th>0</th>\n",
       "      <td>air_877f79706adbfb06</td>\n",
       "      <td>2016-01-01 19:00:00</td>\n",
       "      <td>2016-01-01 16:00:00</td>\n",
       "      <td>1</td>\n",
       "      <td>3.0</td>\n",
       "      <td>2016-01-01</td>\n",
       "    </tr>\n",
       "    <tr>\n",
       "      <th>1</th>\n",
       "      <td>air_db4b38ebe7a7ceff</td>\n",
       "      <td>2016-01-01 19:00:00</td>\n",
       "      <td>2016-01-01 19:00:00</td>\n",
       "      <td>3</td>\n",
       "      <td>0.0</td>\n",
       "      <td>2016-01-01</td>\n",
       "    </tr>\n",
       "    <tr>\n",
       "      <th>2</th>\n",
       "      <td>air_db4b38ebe7a7ceff</td>\n",
       "      <td>2016-01-01 19:00:00</td>\n",
       "      <td>2016-01-01 19:00:00</td>\n",
       "      <td>6</td>\n",
       "      <td>0.0</td>\n",
       "      <td>2016-01-01</td>\n",
       "    </tr>\n",
       "    <tr>\n",
       "      <th>3</th>\n",
       "      <td>air_877f79706adbfb06</td>\n",
       "      <td>2016-01-01 20:00:00</td>\n",
       "      <td>2016-01-01 16:00:00</td>\n",
       "      <td>2</td>\n",
       "      <td>4.0</td>\n",
       "      <td>2016-01-01</td>\n",
       "    </tr>\n",
       "    <tr>\n",
       "      <th>4</th>\n",
       "      <td>air_db80363d35f10926</td>\n",
       "      <td>2016-01-01 20:00:00</td>\n",
       "      <td>2016-01-01 01:00:00</td>\n",
       "      <td>5</td>\n",
       "      <td>19.0</td>\n",
       "      <td>2016-01-01</td>\n",
       "    </tr>\n",
       "  </tbody>\n",
       "</table>\n",
       "</div>"
      ],
      "text/plain": [
       "           air_store_id      visit_datetime    reserve_datetime  \\\n",
       "0  air_877f79706adbfb06 2016-01-01 19:00:00 2016-01-01 16:00:00   \n",
       "1  air_db4b38ebe7a7ceff 2016-01-01 19:00:00 2016-01-01 19:00:00   \n",
       "2  air_db4b38ebe7a7ceff 2016-01-01 19:00:00 2016-01-01 19:00:00   \n",
       "3  air_877f79706adbfb06 2016-01-01 20:00:00 2016-01-01 16:00:00   \n",
       "4  air_db80363d35f10926 2016-01-01 20:00:00 2016-01-01 01:00:00   \n",
       "\n",
       "   reserve_visitors  reserve_gap_hour  visit_date  \n",
       "0                 1               3.0  2016-01-01  \n",
       "1                 3               0.0  2016-01-01  \n",
       "2                 6               0.0  2016-01-01  \n",
       "3                 2               4.0  2016-01-01  \n",
       "4                 5              19.0  2016-01-01  "
      ]
     },
     "execution_count": 303,
     "metadata": {},
     "output_type": "execute_result"
    }
   ],
   "source": [
    "air_reservation_data.head()"
   ]
  },
  {
   "cell_type": "code",
   "execution_count": 304,
   "metadata": {
    "Collapsed": "false"
   },
   "outputs": [],
   "source": [
    "# merge air_visit_data and air_store_info\n",
    "air_database = pd.merge(air_visit_data, air_store_info, how='left', on='air_store_id')\n",
    "date_info.rename(columns={'calendar_date': 'visit_date'}, inplace=True)\n",
    "date_info.visit_date = pd.to_datetime(date_info.visit_date)\n",
    "air_database.visit_date = pd.to_datetime(air_database.visit_date)\n",
    "\n",
    "# add day information\n",
    "air_database = pd.merge(air_database, date_info, how='left', on='visit_date')\n",
    "air_database.sort_values(by='visit_date', axis=0, inplace=True, ignore_index=True)\n",
    "# store the data\n",
    "air_database.to_csv(\"./preprocessed_air_visit_store_date_info.csv\", index=False)"
   ]
  },
  {
   "cell_type": "code",
   "execution_count": 294,
   "metadata": {
    "Collapsed": "false"
   },
   "outputs": [
    {
     "data": {
      "text/html": [
       "<div>\n",
       "<style scoped>\n",
       "    .dataframe tbody tr th:only-of-type {\n",
       "        vertical-align: middle;\n",
       "    }\n",
       "\n",
       "    .dataframe tbody tr th {\n",
       "        vertical-align: top;\n",
       "    }\n",
       "\n",
       "    .dataframe thead th {\n",
       "        text-align: right;\n",
       "    }\n",
       "</style>\n",
       "<table border=\"1\" class=\"dataframe\">\n",
       "  <thead>\n",
       "    <tr style=\"text-align: right;\">\n",
       "      <th></th>\n",
       "      <th>air_store_id</th>\n",
       "      <th>visit_date</th>\n",
       "      <th>visitors</th>\n",
       "      <th>air_genre_name</th>\n",
       "      <th>air_area_name</th>\n",
       "      <th>latitude</th>\n",
       "      <th>longitude</th>\n",
       "      <th>day_of_week</th>\n",
       "      <th>holiday_flg</th>\n",
       "    </tr>\n",
       "  </thead>\n",
       "  <tbody>\n",
       "    <tr>\n",
       "      <th>0</th>\n",
       "      <td>air_fab092c35776a9b1</td>\n",
       "      <td>2016-01-01</td>\n",
       "      <td>19</td>\n",
       "      <td>Cafe/Sweets</td>\n",
       "      <td>Fukuoka-ken Fukuoka-shi Momochi</td>\n",
       "      <td>33.581941</td>\n",
       "      <td>130.348436</td>\n",
       "      <td>Friday</td>\n",
       "      <td>1</td>\n",
       "    </tr>\n",
       "    <tr>\n",
       "      <th>1</th>\n",
       "      <td>air_f26f36ec4dc5adb0</td>\n",
       "      <td>2016-01-01</td>\n",
       "      <td>64</td>\n",
       "      <td>Izakaya</td>\n",
       "      <td>Tōkyō-to Shinjuku-ku Kabukichō</td>\n",
       "      <td>35.693840</td>\n",
       "      <td>139.703549</td>\n",
       "      <td>Friday</td>\n",
       "      <td>1</td>\n",
       "    </tr>\n",
       "    <tr>\n",
       "      <th>2</th>\n",
       "      <td>air_d97dabf7aae60da5</td>\n",
       "      <td>2016-01-01</td>\n",
       "      <td>102</td>\n",
       "      <td>Cafe/Sweets</td>\n",
       "      <td>Tōkyō-to Shibuya-ku Jingūmae</td>\n",
       "      <td>35.669290</td>\n",
       "      <td>139.707056</td>\n",
       "      <td>Friday</td>\n",
       "      <td>1</td>\n",
       "    </tr>\n",
       "    <tr>\n",
       "      <th>3</th>\n",
       "      <td>air_39dccf7df20b1c6a</td>\n",
       "      <td>2016-01-01</td>\n",
       "      <td>55</td>\n",
       "      <td>Izakaya</td>\n",
       "      <td>Hyōgo-ken Takarazuka-shi Tōyōchō</td>\n",
       "      <td>34.799767</td>\n",
       "      <td>135.360073</td>\n",
       "      <td>Friday</td>\n",
       "      <td>1</td>\n",
       "    </tr>\n",
       "    <tr>\n",
       "      <th>4</th>\n",
       "      <td>air_79f528087f49df06</td>\n",
       "      <td>2016-01-01</td>\n",
       "      <td>42</td>\n",
       "      <td>Western food</td>\n",
       "      <td>Tōkyō-to Suginami-ku Asagayaminami</td>\n",
       "      <td>35.699566</td>\n",
       "      <td>139.636438</td>\n",
       "      <td>Friday</td>\n",
       "      <td>1</td>\n",
       "    </tr>\n",
       "  </tbody>\n",
       "</table>\n",
       "</div>"
      ],
      "text/plain": [
       "           air_store_id visit_date  visitors air_genre_name  \\\n",
       "0  air_fab092c35776a9b1 2016-01-01        19    Cafe/Sweets   \n",
       "1  air_f26f36ec4dc5adb0 2016-01-01        64        Izakaya   \n",
       "2  air_d97dabf7aae60da5 2016-01-01       102    Cafe/Sweets   \n",
       "3  air_39dccf7df20b1c6a 2016-01-01        55        Izakaya   \n",
       "4  air_79f528087f49df06 2016-01-01        42   Western food   \n",
       "\n",
       "                        air_area_name   latitude   longitude day_of_week  \\\n",
       "0     Fukuoka-ken Fukuoka-shi Momochi  33.581941  130.348436      Friday   \n",
       "1      Tōkyō-to Shinjuku-ku Kabukichō  35.693840  139.703549      Friday   \n",
       "2        Tōkyō-to Shibuya-ku Jingūmae  35.669290  139.707056      Friday   \n",
       "3    Hyōgo-ken Takarazuka-shi Tōyōchō  34.799767  135.360073      Friday   \n",
       "4  Tōkyō-to Suginami-ku Asagayaminami  35.699566  139.636438      Friday   \n",
       "\n",
       "   holiday_flg  \n",
       "0            1  \n",
       "1            1  \n",
       "2            1  \n",
       "3            1  \n",
       "4            1  "
      ]
     },
     "execution_count": 294,
     "metadata": {},
     "output_type": "execute_result"
    }
   ],
   "source": [
    "air_database.head()"
   ]
  },
  {
   "cell_type": "code",
   "execution_count": 305,
   "metadata": {
    "Collapsed": "false"
   },
   "outputs": [],
   "source": [
    "# add total reservations made for the visit date\n",
    "air_reservation_count = air_reservation_data.groupby(\n",
    "                                by=['air_store_id', 'visit_date'], as_index=False)['reserve_visitors'].sum()\n",
    "\n",
    "air_reservation_count['visit_date'] = pd.to_datetime(air_reservation_count['visit_date'])\n",
    "\n",
    "air_database = pd.merge(air_database, air_reservation_count, how='left', on=['visit_date', 'air_store_id'])\n",
    "air_database.fillna(0, inplace=True)\n",
    "air_database.to_csv(\"preprocessed_air_visit_store_date_reserve_info.csv\", index=False)"
   ]
  },
  {
   "cell_type": "code",
   "execution_count": 306,
   "metadata": {
    "Collapsed": "false"
   },
   "outputs": [
    {
     "name": "stdout",
     "output_type": "stream",
     "text": [
      "No of air stores that are part of HPG database is 150\n"
     ]
    }
   ],
   "source": [
    "print(\"No of air stores that are part of HPG database is\", store_id_relation.shape[0])"
   ]
  },
  {
   "cell_type": "code",
   "execution_count": 307,
   "metadata": {
    "Collapsed": "false"
   },
   "outputs": [],
   "source": [
    "# Get the hpg reservation information for hpg store ids\n",
    "hpg_database = pd.merge(store_id_relation, hpg_reservation_data, on='hpg_store_id')\n",
    "hpg_database.visit_datetime = pd.to_datetime(hpg_database.visit_datetime)\n",
    "hpg_database.reserve_datetime = pd.to_datetime(hpg_database.reserve_datetime)\n",
    "hpg_diff = hpg_database.visit_datetime - hpg_database.reserve_datetime\n",
    "hpg_diff = hpg_diff / np.timedelta64(1, 'h')\n",
    "\n",
    "hpg_database[\"hpg_reserve_gap_hour\"] = hpg_diff\n",
    "hpg_database['visit_date'] = hpg_database.visit_datetime.dt.date"
   ]
  },
  {
   "cell_type": "code",
   "execution_count": 308,
   "metadata": {
    "Collapsed": "false"
   },
   "outputs": [
    {
     "data": {
      "text/html": [
       "<div>\n",
       "<style scoped>\n",
       "    .dataframe tbody tr th:only-of-type {\n",
       "        vertical-align: middle;\n",
       "    }\n",
       "\n",
       "    .dataframe tbody tr th {\n",
       "        vertical-align: top;\n",
       "    }\n",
       "\n",
       "    .dataframe thead th {\n",
       "        text-align: right;\n",
       "    }\n",
       "</style>\n",
       "<table border=\"1\" class=\"dataframe\">\n",
       "  <thead>\n",
       "    <tr style=\"text-align: right;\">\n",
       "      <th></th>\n",
       "      <th>air_store_id</th>\n",
       "      <th>hpg_store_id</th>\n",
       "      <th>visit_datetime</th>\n",
       "      <th>reserve_datetime</th>\n",
       "      <th>reserve_visitors</th>\n",
       "      <th>hpg_reserve_gap_hour</th>\n",
       "      <th>visit_date</th>\n",
       "    </tr>\n",
       "  </thead>\n",
       "  <tbody>\n",
       "    <tr>\n",
       "      <th>0</th>\n",
       "      <td>air_63b13c56b7201bd9</td>\n",
       "      <td>hpg_4bc649e72e2a239a</td>\n",
       "      <td>2016-01-04 12:00:00</td>\n",
       "      <td>2016-01-03 14:00:00</td>\n",
       "      <td>7</td>\n",
       "      <td>22.0</td>\n",
       "      <td>2016-01-04</td>\n",
       "    </tr>\n",
       "    <tr>\n",
       "      <th>1</th>\n",
       "      <td>air_63b13c56b7201bd9</td>\n",
       "      <td>hpg_4bc649e72e2a239a</td>\n",
       "      <td>2016-01-04 14:00:00</td>\n",
       "      <td>2016-01-02 13:00:00</td>\n",
       "      <td>4</td>\n",
       "      <td>49.0</td>\n",
       "      <td>2016-01-04</td>\n",
       "    </tr>\n",
       "    <tr>\n",
       "      <th>2</th>\n",
       "      <td>air_63b13c56b7201bd9</td>\n",
       "      <td>hpg_4bc649e72e2a239a</td>\n",
       "      <td>2016-01-05 12:00:00</td>\n",
       "      <td>2016-01-01 08:00:00</td>\n",
       "      <td>3</td>\n",
       "      <td>100.0</td>\n",
       "      <td>2016-01-05</td>\n",
       "    </tr>\n",
       "    <tr>\n",
       "      <th>3</th>\n",
       "      <td>air_63b13c56b7201bd9</td>\n",
       "      <td>hpg_4bc649e72e2a239a</td>\n",
       "      <td>2016-01-09 12:00:00</td>\n",
       "      <td>2016-01-07 20:00:00</td>\n",
       "      <td>6</td>\n",
       "      <td>40.0</td>\n",
       "      <td>2016-01-09</td>\n",
       "    </tr>\n",
       "    <tr>\n",
       "      <th>4</th>\n",
       "      <td>air_63b13c56b7201bd9</td>\n",
       "      <td>hpg_4bc649e72e2a239a</td>\n",
       "      <td>2016-01-11 12:00:00</td>\n",
       "      <td>2016-01-10 15:00:00</td>\n",
       "      <td>3</td>\n",
       "      <td>21.0</td>\n",
       "      <td>2016-01-11</td>\n",
       "    </tr>\n",
       "  </tbody>\n",
       "</table>\n",
       "</div>"
      ],
      "text/plain": [
       "           air_store_id          hpg_store_id      visit_datetime  \\\n",
       "0  air_63b13c56b7201bd9  hpg_4bc649e72e2a239a 2016-01-04 12:00:00   \n",
       "1  air_63b13c56b7201bd9  hpg_4bc649e72e2a239a 2016-01-04 14:00:00   \n",
       "2  air_63b13c56b7201bd9  hpg_4bc649e72e2a239a 2016-01-05 12:00:00   \n",
       "3  air_63b13c56b7201bd9  hpg_4bc649e72e2a239a 2016-01-09 12:00:00   \n",
       "4  air_63b13c56b7201bd9  hpg_4bc649e72e2a239a 2016-01-11 12:00:00   \n",
       "\n",
       "     reserve_datetime  reserve_visitors  hpg_reserve_gap_hour  visit_date  \n",
       "0 2016-01-03 14:00:00                 7                  22.0  2016-01-04  \n",
       "1 2016-01-02 13:00:00                 4                  49.0  2016-01-04  \n",
       "2 2016-01-01 08:00:00                 3                 100.0  2016-01-05  \n",
       "3 2016-01-07 20:00:00                 6                  40.0  2016-01-09  \n",
       "4 2016-01-10 15:00:00                 3                  21.0  2016-01-11  "
      ]
     },
     "execution_count": 308,
     "metadata": {},
     "output_type": "execute_result"
    }
   ],
   "source": [
    "hpg_database.head()"
   ]
  },
  {
   "cell_type": "code",
   "execution_count": 309,
   "metadata": {
    "Collapsed": "false"
   },
   "outputs": [],
   "source": [
    "# add total reservations made for the visit date through hpg database\n",
    "hpg_reservation_count = hpg_database.groupby(\n",
    "                                by=['air_store_id', 'visit_date'], as_index=False)['reserve_visitors'].sum()\n",
    "\n",
    "hpg_reservation_count['visit_date'] = pd.to_datetime(hpg_reservation_count['visit_date'])\n",
    "\n",
    "air_database = pd.merge(air_database, hpg_reservation_count, \n",
    "                        how='left', on=['visit_date','air_store_id'])\n",
    "air_database.fillna(0, inplace=True)\n",
    "air_database.rename(columns={\"reserve_visitors_x\": \"air_reserve_visitors\", \n",
    "                             \"reserve_visitors_y\": \"hpg_reserve_visitors\"},\n",
    "                   inplace=True)\n",
    "air_database.to_csv(\"preprocessed_final.csv\", index=False)"
   ]
  },
  {
   "cell_type": "code",
   "execution_count": 310,
   "metadata": {
    "Collapsed": "false"
   },
   "outputs": [
    {
     "data": {
      "text/html": [
       "<div>\n",
       "<style scoped>\n",
       "    .dataframe tbody tr th:only-of-type {\n",
       "        vertical-align: middle;\n",
       "    }\n",
       "\n",
       "    .dataframe tbody tr th {\n",
       "        vertical-align: top;\n",
       "    }\n",
       "\n",
       "    .dataframe thead th {\n",
       "        text-align: right;\n",
       "    }\n",
       "</style>\n",
       "<table border=\"1\" class=\"dataframe\">\n",
       "  <thead>\n",
       "    <tr style=\"text-align: right;\">\n",
       "      <th></th>\n",
       "      <th>air_store_id</th>\n",
       "      <th>visit_date</th>\n",
       "      <th>visitors</th>\n",
       "      <th>air_genre_name</th>\n",
       "      <th>air_area_name</th>\n",
       "      <th>latitude</th>\n",
       "      <th>longitude</th>\n",
       "      <th>day_of_week</th>\n",
       "      <th>holiday_flg</th>\n",
       "      <th>air_reserve_visitors</th>\n",
       "      <th>hpg_reserve_visitors</th>\n",
       "    </tr>\n",
       "  </thead>\n",
       "  <tbody>\n",
       "    <tr>\n",
       "      <th>0</th>\n",
       "      <td>air_fab092c35776a9b1</td>\n",
       "      <td>2016-01-01</td>\n",
       "      <td>19</td>\n",
       "      <td>Cafe/Sweets</td>\n",
       "      <td>Fukuoka-ken Fukuoka-shi Momochi</td>\n",
       "      <td>33.581941</td>\n",
       "      <td>130.348436</td>\n",
       "      <td>Friday</td>\n",
       "      <td>1</td>\n",
       "      <td>0.0</td>\n",
       "      <td>0.0</td>\n",
       "    </tr>\n",
       "    <tr>\n",
       "      <th>1</th>\n",
       "      <td>air_f26f36ec4dc5adb0</td>\n",
       "      <td>2016-01-01</td>\n",
       "      <td>64</td>\n",
       "      <td>Izakaya</td>\n",
       "      <td>Tōkyō-to Shinjuku-ku Kabukichō</td>\n",
       "      <td>35.693840</td>\n",
       "      <td>139.703549</td>\n",
       "      <td>Friday</td>\n",
       "      <td>1</td>\n",
       "      <td>0.0</td>\n",
       "      <td>0.0</td>\n",
       "    </tr>\n",
       "    <tr>\n",
       "      <th>2</th>\n",
       "      <td>air_d97dabf7aae60da5</td>\n",
       "      <td>2016-01-01</td>\n",
       "      <td>102</td>\n",
       "      <td>Cafe/Sweets</td>\n",
       "      <td>Tōkyō-to Shibuya-ku Jingūmae</td>\n",
       "      <td>35.669290</td>\n",
       "      <td>139.707056</td>\n",
       "      <td>Friday</td>\n",
       "      <td>1</td>\n",
       "      <td>0.0</td>\n",
       "      <td>0.0</td>\n",
       "    </tr>\n",
       "    <tr>\n",
       "      <th>3</th>\n",
       "      <td>air_39dccf7df20b1c6a</td>\n",
       "      <td>2016-01-01</td>\n",
       "      <td>55</td>\n",
       "      <td>Izakaya</td>\n",
       "      <td>Hyōgo-ken Takarazuka-shi Tōyōchō</td>\n",
       "      <td>34.799767</td>\n",
       "      <td>135.360073</td>\n",
       "      <td>Friday</td>\n",
       "      <td>1</td>\n",
       "      <td>0.0</td>\n",
       "      <td>0.0</td>\n",
       "    </tr>\n",
       "    <tr>\n",
       "      <th>4</th>\n",
       "      <td>air_79f528087f49df06</td>\n",
       "      <td>2016-01-01</td>\n",
       "      <td>42</td>\n",
       "      <td>Western food</td>\n",
       "      <td>Tōkyō-to Suginami-ku Asagayaminami</td>\n",
       "      <td>35.699566</td>\n",
       "      <td>139.636438</td>\n",
       "      <td>Friday</td>\n",
       "      <td>1</td>\n",
       "      <td>0.0</td>\n",
       "      <td>0.0</td>\n",
       "    </tr>\n",
       "  </tbody>\n",
       "</table>\n",
       "</div>"
      ],
      "text/plain": [
       "           air_store_id visit_date  visitors air_genre_name  \\\n",
       "0  air_fab092c35776a9b1 2016-01-01        19    Cafe/Sweets   \n",
       "1  air_f26f36ec4dc5adb0 2016-01-01        64        Izakaya   \n",
       "2  air_d97dabf7aae60da5 2016-01-01       102    Cafe/Sweets   \n",
       "3  air_39dccf7df20b1c6a 2016-01-01        55        Izakaya   \n",
       "4  air_79f528087f49df06 2016-01-01        42   Western food   \n",
       "\n",
       "                        air_area_name   latitude   longitude day_of_week  \\\n",
       "0     Fukuoka-ken Fukuoka-shi Momochi  33.581941  130.348436      Friday   \n",
       "1      Tōkyō-to Shinjuku-ku Kabukichō  35.693840  139.703549      Friday   \n",
       "2        Tōkyō-to Shibuya-ku Jingūmae  35.669290  139.707056      Friday   \n",
       "3    Hyōgo-ken Takarazuka-shi Tōyōchō  34.799767  135.360073      Friday   \n",
       "4  Tōkyō-to Suginami-ku Asagayaminami  35.699566  139.636438      Friday   \n",
       "\n",
       "   holiday_flg  air_reserve_visitors  hpg_reserve_visitors  \n",
       "0            1                   0.0                   0.0  \n",
       "1            1                   0.0                   0.0  \n",
       "2            1                   0.0                   0.0  \n",
       "3            1                   0.0                   0.0  \n",
       "4            1                   0.0                   0.0  "
      ]
     },
     "execution_count": 310,
     "metadata": {},
     "output_type": "execute_result"
    }
   ],
   "source": [
    "air_database.head()"
   ]
  },
  {
   "cell_type": "code",
   "execution_count": 314,
   "metadata": {
    "Collapsed": "false"
   },
   "outputs": [
    {
     "data": {
      "text/html": [
       "<div>\n",
       "<style scoped>\n",
       "    .dataframe tbody tr th:only-of-type {\n",
       "        vertical-align: middle;\n",
       "    }\n",
       "\n",
       "    .dataframe tbody tr th {\n",
       "        vertical-align: top;\n",
       "    }\n",
       "\n",
       "    .dataframe thead th {\n",
       "        text-align: right;\n",
       "    }\n",
       "</style>\n",
       "<table border=\"1\" class=\"dataframe\">\n",
       "  <thead>\n",
       "    <tr style=\"text-align: right;\">\n",
       "      <th></th>\n",
       "      <th>id</th>\n",
       "      <th>visitors</th>\n",
       "    </tr>\n",
       "  </thead>\n",
       "  <tbody>\n",
       "    <tr>\n",
       "      <th>0</th>\n",
       "      <td>air_00a91d42b08b08d9_2017-04-23</td>\n",
       "      <td>0</td>\n",
       "    </tr>\n",
       "    <tr>\n",
       "      <th>1</th>\n",
       "      <td>air_00a91d42b08b08d9_2017-04-24</td>\n",
       "      <td>0</td>\n",
       "    </tr>\n",
       "    <tr>\n",
       "      <th>2</th>\n",
       "      <td>air_00a91d42b08b08d9_2017-04-25</td>\n",
       "      <td>0</td>\n",
       "    </tr>\n",
       "    <tr>\n",
       "      <th>3</th>\n",
       "      <td>air_00a91d42b08b08d9_2017-04-26</td>\n",
       "      <td>0</td>\n",
       "    </tr>\n",
       "    <tr>\n",
       "      <th>4</th>\n",
       "      <td>air_00a91d42b08b08d9_2017-04-27</td>\n",
       "      <td>0</td>\n",
       "    </tr>\n",
       "  </tbody>\n",
       "</table>\n",
       "</div>"
      ],
      "text/plain": [
       "                                id  visitors\n",
       "0  air_00a91d42b08b08d9_2017-04-23         0\n",
       "1  air_00a91d42b08b08d9_2017-04-24         0\n",
       "2  air_00a91d42b08b08d9_2017-04-25         0\n",
       "3  air_00a91d42b08b08d9_2017-04-26         0\n",
       "4  air_00a91d42b08b08d9_2017-04-27         0"
      ]
     },
     "execution_count": 314,
     "metadata": {},
     "output_type": "execute_result"
    }
   ],
   "source": [
    "# test_data preparation\n",
    "submission = pd.read_csv(\"./sample_submission.csv\")\n",
    "submission.head()"
   ]
  },
  {
   "cell_type": "code",
   "execution_count": 320,
   "metadata": {
    "Collapsed": "false"
   },
   "outputs": [],
   "source": [
    "submission['air_store_id'] = submission.id.str[:20]\n",
    "submission['date'] = submission.id.str[21:]\n",
    "submission['date'] = pd.to_datetime(submission.date)\n",
    "#submission['date'] = submission.date.dt.strftime(\"%d-%m-%Y\")\n",
    "submission.to_csv(\"processed_submission.csv\", index=False)"
   ]
  },
  {
   "cell_type": "markdown",
   "metadata": {
    "Collapsed": "false"
   },
   "source": [
    "## data information"
   ]
  },
  {
   "cell_type": "code",
   "execution_count": 326,
   "metadata": {
    "Collapsed": "false"
   },
   "outputs": [
    {
     "name": "stdout",
     "output_type": "stream",
     "text": [
      "\n",
      "==============Train Data information==============\n",
      "\n",
      "Train dataset size:  (252108, 11)\n",
      "Total unique restaurants 829\n",
      "Total unique restaurant genre:  14\n",
      "Average visitors 20.973761245180636\n",
      "No of days data 478\n",
      "\n",
      "==============Test Data information===============\n",
      "\n",
      "Total unique restarants:  821\n",
      "No of days to be predicted:  39\n"
     ]
    }
   ],
   "source": [
    "print()\n",
    "print(\"Train Data information\".center(50, \"=\"))\n",
    "print()\n",
    "print(\"Train dataset size: \", air_database.shape)\n",
    "print(\"Total unique restaurants\", len(air_database.air_store_id.unique()))\n",
    "print(\"Total unique restaurant genre: \", len(air_database.air_genre_name.unique()))\n",
    "print(\"Average visitors:\", air_database.visitors.mean())\n",
    "print(\"No of days data:\", len(air_database.visit_date.unique()))\n",
    "\n",
    "print()\n",
    "print(\"Test Data information\".center(50, \"=\"))\n",
    "print()\n",
    "print(\"Total unique restarants: \", len(submission.air_store_id.unique()))\n",
    "print(\"No of days to be predicted: \",len(submission.date.unique()))\n"
   ]
  }
 ],
 "metadata": {
  "kernelspec": {
   "display_name": "Python [conda env:tensorflow_gpu]",
   "language": "python",
   "name": "conda-env-tensorflow_gpu-py"
  },
  "language_info": {
   "codemirror_mode": {
    "name": "ipython",
    "version": 3
   },
   "file_extension": ".py",
   "mimetype": "text/x-python",
   "name": "python",
   "nbconvert_exporter": "python",
   "pygments_lexer": "ipython3",
   "version": "3.7.7"
  }
 },
 "nbformat": 4,
 "nbformat_minor": 4
}
